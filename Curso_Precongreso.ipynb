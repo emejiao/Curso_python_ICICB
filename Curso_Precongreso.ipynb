{
 "cells": [
  {
   "cell_type": "markdown",
   "metadata": {},
   "source": [
    "<img src=\"logosimbolo1.gif\" width=\"180\" height=\"180\" align=\"left\"/>\n",
    "\n",
    "<img src=\"logo.svg\" width=\"200\" height=\"460\" align=\"right\"/>\n",
    "\n",
    "<font color='orange' size=6 align='center'><p style='text-align: center;'>**Curso Precongreso (1-CICB): Python en Ciencias Biomédicas**\\\n",
    "<font color=cian size=5>**Enrique Mejía Ospino, emejia@uis.edu.co**\\\n",
    "<font color=cian size=5>         **Universidad Industrial de Santander**"
   ]
  },
  {
   "cell_type": "markdown",
   "metadata": {},
   "source": [
    "---"
   ]
  },
  {
   "cell_type": "markdown",
   "metadata": {},
   "source": [
    "<font color=navy size=6 align='center'><p style='text-align: center;'>         **INTRODUCCIÓN**\n",
    "    \n",
    "---"
   ]
  },
  {
   "cell_type": "markdown",
   "metadata": {},
   "source": [
    "<font color=orange size=6>**¿Qué es Python?**\n",
    "\n",
    "<font color=cian size=4><p style='text-align: justify;'>**Python es un lenguaje de programación dinámico de alto nivel y orientado a objetos que se ha utilizado ampliamente en la industria durante casi 30 años. Python es un lenguaje de propósito general, lo que significa que se puede utilizar de forma efectiva para construir cualquier cosa, desde simples aplicaciones web y de escritorio hasta potentes sistemas de gestión de datos e incluso complejas herramientas de aprendizaje automático e inteligencia artificial. Hoy en día, Python es el *segundo lenguaje de programación* más utilizado en el mundo, alabado por los ingenieros de desarrollo de software de todo el mundo por su versatilidad y la facilidad de uso. Pero más que cualquier otro lenguaje, la increíble flexibilidad y las características únicas de Python han demostrado su valor en el sector sanitario en los últimos años.**"
   ]
  },
  {
   "cell_type": "markdown",
   "metadata": {},
   "source": [
    "---"
   ]
  },
  {
   "cell_type": "markdown",
   "metadata": {},
   "source": [
    "<font color=navy size=6>**¿Por qué los desarrolladores de tecnología sanitaria prefieren Python?**\n",
    "\n",
    "<font color=teal size=4><p style='text-align: justify;'>**Estas son las principales razones por las que Python ha encabezado las listas de desarrollo de software sanitario frente a otros lenguajes de programación como Java y C++ en los últimos años:**"
   ]
  },
  {
   "cell_type": "markdown",
   "metadata": {},
   "source": [
    "**<font color=navy size=5>Mayor productividad**\n",
    "**<font bold color=MediumSeaGreen size=4><p style='text-align: justify;'>\n",
    "La sintaxis Python, los diseños orientados a objetos y la reutilización de códigos permiten a los desarrolladores de software escribir código más rápido y añadir funciones complejas de forma más eficiente que con otros lenguajes.**"
   ]
  },
  {
   "cell_type": "markdown",
   "metadata": {},
   "source": [
    "**<font color=navy size=5>Semántica dinámica**\n",
    "**<font bold color=MediumVioletRed size=4><p style='text-align: justify;'>\n",
    "Python es un lenguaje dinámico de diseño más cortos y un volumen de código reducido. Esto aporta más flexibilidad al desarrollo incremental y ahorra mucho tiempo a los proyectos sanitarios. Sólo se tiene que codificar, probar y desplegar en producción.**"
   ]
  },
  {
   "cell_type": "markdown",
   "metadata": {},
   "source": [
    "**<font color=navy size=5>Código abierto**\n",
    "**<font bold color=black size=4><p style='text-align: justify;'>\n",
    "Python puede utilizarse y distribuirse libremente incluso con fines comerciales. Esto también permite que exista una gran y activa comunidad de colaboradores que comparten conocimientos y proporcionan soluciones que pueden ayudar al desarrollo de su proyecto sanitario.**"
   ]
  },
  {
   "cell_type": "markdown",
   "metadata": {},
   "source": [
    "**<font color=navy size=5>Bibliotecas y Modulos disponibles**\n",
    "**<font bold color=cian size=4><p style='text-align: justify;'>\n",
    "Existe una gran cantidad de bibliotecas o Modulos de muy alta calidad y flexibilidad que permiten cubrir casi cualquier necesidad y por tanto elimina la necesidad de que los desarrolladores de software estén constantemete reinventendo la rueda. Los proyectos relacionados con el área de la salud no tienen que escribir código nuevo para cada uno de sus requerimientos.**"
   ]
  },
  {
   "cell_type": "markdown",
   "metadata": {},
   "source": [
    "**<font color=navy size=5>Desarrollo dirigido por pruebas**\n",
    "**<font bold color=BlueViole size=4><p style='text-align: justify;'>\n",
    "La gran legibilidad del código y el marco de prueba de cada dessarrollo de Python lo hacen muy eficaz. Esto significa que los proyectos relacionados con el área de la salud pueden minimizar el tiempo dedicado a corregir errores y reducir en gran medida el costo de mantenimiento del desarrollo.**"
   ]
  },
  {
   "cell_type": "markdown",
   "metadata": {},
   "source": [
    "**<font color=navy size=5>Inter-Operabilidad**\n",
    "**<font bold color=RosyBrown size=4><p style='text-align: justify;'>\n",
    "Con la ayuda de ciertos Modulos, Python ofrece una gran inter-operabilidad con otros lenguajes de programación y tecnologías, lo que permite una perfecta integración de las soluciones basadas en Python con prácticamente cualquier plataforma.**"
   ]
  },
  {
   "cell_type": "markdown",
   "metadata": {},
   "source": [
    "**<font color=navy size=5>Versatilidad**\n",
    "**<font bold color=cian size=4><p style='text-align: justify;'>\n",
    "Python es de uso general, lo que permite que los proyectos sanitarios reduzcan la complejidad general del proyecto y los recursos invertidos en el desarrollo al utilizar un único lenguaje para cubrir todos los objetivos de desarrollo del proyecto.**"
   ]
  },
  {
   "cell_type": "markdown",
   "metadata": {},
   "source": [
    "----"
   ]
  },
  {
   "cell_type": "markdown",
   "metadata": {},
   "source": [
    "**<font color=red size=6>Casos de uso de Python en Ciencias Biomédicas**\n",
    "    \n",
    "**<font color=orange size=5>Atención al paciente**\n",
    "**<font bold color=DarkSlateGray size=4><p style='text-align: justify; font-style: italic'>\n",
    "Los hospitales y las clínicas suelen sufrir graves limitaciones de recursos que hacen que la asignación eficiente del presupuesto y del personal sea un gran problema. Por un lado, un exceso de personal en un turno con pocas admisiones generará costos laborales innecesarios. Por otro lado, un día ajetreado con poco personal disponible puede dar lugar a resultados fatales. E incluso con una dotación de personal óptima, no siempre se puede estar seguro de que las citas, las instalaciones de diagnóstico y el tratamiento se programen y gestionen correctamente.\n",
    "Con bibliotecas de aprendizaje automático como TensorFlow, Pytorch y Scikit-Learn, Python puede mejorar las capacidades de gestión y control de costos de los proveedores de servicios de salud, ayudándoles a ser más sostenibles. Utilizando Python, las empresas de tecnología sanitaria pueden crear soluciones de redes neuronales profundas que analizarán las tasas de admisión de pacientes, los datos clíicos y otros datos hospitalarios para captar patrones relevantes que puedan utilizarse para optimizar la gestión de las operaciones. Así, aspectos como la dotación de personal, la gestión de inventarios, la atención de urgencias y los tiempos de espera de los pacientes serán mucho más predecibles y rentables. Los analistas del sector creen que este tipo de aplicaciones pueden generar un ahorro anual de 150.000 millones de dólares para la economía sanitaria estadounidense de aquí a 2026.**"
   ]
  },
  {
   "cell_type": "markdown",
   "metadata": {},
   "source": [
    "**<font color=orange size=5>Diagnóstico**\n",
    "**<font bold color=RoyalBlue size=4><p style='text-align: justify;'>\n",
    "Los errores médicos afectan a uno de cada 10 pacientes en todo el mundo. Es un factor muy grave en la atención sanitaria, ya que incluso un diagnóstico erróneo o una prescripción equivocada pueden tener consecuencias letales. Sólo en Estados Unidos, aproximadamente el 10% de las muertes de pacientes se deben a errores de diagnóstico, mientras que otros cientos de miles de pacientes experimentan reacciones adversas a los medicamentos prescritos.\n",
    "Las capacidades de aprendizaje automático de Python pueden aplicarse eficazmente en la construcción de potentes herramientas de reconocimiento de imágenes y procesamiento de datos médicos. Estas herramientas podrán aprender de los datos clínicos de los pacientes, identificar patrones específicos y proporcionar información personalizada sobre el diagnóstico y la medicación con una precisión muy alta. Esto incluye el análisis de electrocardiogramas, ecografías, resonancias magnéticas y tomografías computerizadas.\n",
    "Con herramientas de aprendizaje automático basadas en Python, los médicos pueden combinar estos datos en un único resultado de diagnóstico con una estrategia de tratamiento más eficaz y precisa. Este tipo de tecnología de diagnóstico avanzada será especialmente útil para oncólogos y patólogos.**"
   ]
  },
  {
   "cell_type": "markdown",
   "metadata": {},
   "source": [
    "**<font color=orange size=5>Pronóstico**\n",
    "**<font bold color=FireBrick size=4><p style='text-align: justify;'>\n",
    "Existen numerosos factores específicos del paciente que pueden afectar al curso de la enfermedad. Esto obliga a los médicos a procesar cantidades inconcebibles de datos para poder estimar el estado del paciente y las posibles complicaciones. Con tantos signos y síntomas similares relacionados con diferentes enfermedades, es muy difícil, incluso para los mejores y más experimentados médicos, predecir la duración prevista y el resultado de la enfermedad para cada paciente individual.\n",
    "Con los marcos de trabajo basados en Python, las bibliotecas de aprendizaje automático y los recientes avances en el análisis predictivo, este lenguaje puede utilizarse para crear herramientas fiables de pronóstico de enfermedades. Esta tecnología basada en Python es menos lenta de implementar y más rentable de mantener que los métodos de pronóstico existentes. Estas herramientas pueden procesar montones de datos de HCE de pacientes, analizando el diagnóstico actual, la duración de la enfermedad y el tratamiento de cada paciente.\n",
    "El sistema comparará el curso de la enfermedad, los planes de tratamiento dados, la medicación prescrita y otros factores específicos del paciente para analizar la eficacia e identificar lo que podría ocurrir a continuación antes de que se manifieste cualquier complicación grave. Este tipo de soluciones también pueden aplicarse a los cuidados paliativos, prediciendo la mortalidad de los pacientes con enfermedades terminales de forma más precisa y oportuna.**"
   ]
  },
  {
   "cell_type": "markdown",
   "metadata": {},
   "source": [
    "**<font color=orange size=5>Ciencia de los datos**\n",
    "**<font bold color=cian size=4><p style='text-align: justify;'>\n",
    "Las soluciones de gestión y análisis de datos basadas en Python pueden muy bien convertirse en un gran impulsor de los avances científicos en salud humana. Además de un cálculo estadístico eficaz, Python puede utilizarse para conectar diferentes bases de datos, plataformas y API externas para introducir los datos directamente en los canales de la ciencia de datos.\n",
    "Mediante algoritmos y sistemas de Python potentes y rentables, las organizaciones sanitarias podrán procesar exabytes de datos sanitarios estructurales y no estructurados para ayudar a la investigación, el desarrollo y el ensayo de nuevos métodos de tratamiento, descubrir soluciones de atención preventiva, mejorar el control de epidemias, etc.**"
   ]
  },
  {
   "cell_type": "markdown",
   "metadata": {},
   "source": [
    "------"
   ]
  },
  {
   "cell_type": "markdown",
   "metadata": {},
   "source": [
    "**<font color=olive size=5 >Instalación**\n",
    "\n",
    "* <font bold color=navy size=4><p style='font-style: italic'> **En Windows o mac: recomendación [Anaconda](https://www.anaconda.com/products/individual). Instalá la versión basada en Python 3 que corresponda a tu Sistema Operativo**\n",
    "    \n",
    "* <font bold color=navy size=4><p style='font-style: italic'> **En linux puedes instalar directamente todo lo necesario desde tus repositorios. Por ejemplo en Ubuntu: `sudo apt-get install anaconda`.**\n",
    "\n",
    "**<font color=maroon size=5 >¿Cómo se usa Python?**\n",
    "\n",
    "* <font bold color=navy size=4><p style='font-style: italic'> **Consolas interactivas**\n",
    "\n",
    "<font bold color=blue size=4><p style='text-align: justify; font-style: italic'>**Hay varias maneras de usar el lenguaje Python. Si ejecutamos la consola (En windows `cmd.exe`) y luego `python`(debe estar instalado), se abrirá la consola interactiva en la que podemos escribir sentencias o pequeños bloques de código que son ejecutados inmediatamente. Pero *la consola interactiva* estándar es **limitada**.**\n",
    "\n",
    "<img src=\"consola.png\" width=\"680\" height=\"680\" align=\"center\"/>\n",
    "\n",
    "<font bold color=blue size=4><p style='text-align: justify; font-style: italic'>**La consola IPython supera a la estándar en muchos sentidos. Podemos autocompletar (`<TAB>`), ver ayuda rápida de cualquier objeto (`?`) y muchas cosas más.**\n",
    "\n",
    "<img src=\"consola2.png\" width=\"680\" height=\"680\" align=\"center\"/>\n"
   ]
  },
  {
   "cell_type": "markdown",
   "metadata": {},
   "source": [
    "**<font bold color=black size=4><p style='text-align: justify;'>\n",
    "Existe un gran numero de plataformas para leer y desarrollar codigos en python, entre ellos cinco destacados (en mi opinión) son:**\n",
    "\n",
    "* <font bold color=navy size=4><p style='font-style: italic'> **[PyCharm](https://www.jetbrains.com/pycharm/)**\n",
    "* <font bold color=navy size=4><p style='font-style: italic'> **[KDevelop](https://www.kdevelop.org/)**\n",
    "* <font bold color=navy size=4><p style='font-style: italic'> **[Spyder](https://www.spyder-ide.org/)**\n",
    "* <font bold color=navy size=4><p style='font-style: italic'> **[Visual Studio](https://visualstudio.microsoft.com/vs/)**\n",
    "* <font bold color=navy size=4><p style='font-style: italic'> **[PyDev](https://www.pydev.org/index.html)**   "
   ]
  },
  {
   "cell_type": "markdown",
   "metadata": {},
   "source": [
    "**<font bold color=navy size=4><p style='text-align: justify;'>Sin embargo, las plataformas que mas están siendo utilizadas hoy día, son las denominadas Jupyter (Jupyter Notebook, Jupyter Hub y Jupyter Lab).  Ambas han sido desarrolladas dentro del Proyecto Jupyter.**\n",
    "**<font bold color=Brown size=4><p style='text-align: justify;'>El Proyecto Jupyter es (*Wikipedia*); \"una organización sin ánimo de lucro creada para \"desarrollar software de código abierto, estándares abiertos y servicios para computación interactiva en docenas de lenguajes de programación\". Creado a partir de IPython en 2014 por Fernando Pérez (Colombiano!), el proyecto Jupyter soporta entornos de ejecución en varias docenas de lenguajes de programación. El nombre del proyecto Jupyter es una referencia a los tres lenguajes de programación principales soportados por Jupyter, que son Julia, Python y R, y también un homenaje a los cuadernos de Galileo que registran el descubrimiento de los satélites de Júpiter. El proyecto Jupyter ha desarrollado y respaldado los productos de computación interactiva Jupyter Notebook, JupyterHub y JupyterLab, la versión de próxima generación de Jupyter Notebook\".**"
   ]
  },
  {
   "cell_type": "markdown",
   "metadata": {},
   "source": [
    "---"
   ]
  },
  {
   "cell_type": "markdown",
   "metadata": {},
   "source": [
    "**<font bold color=DarkOrange size=4><p style='text-align: justify;'>\n",
    "Todas las Plataformas del Proyecto Jupyter se encuentran en un sitio denominado [ANACONDA](https://www.anaconda.com/products/individual). Anaconda es una Suite de código abierto que abarca una serie de aplicaciones, librerías y conceptos diseñados para el desarrollo de la Ciencia de datos con Python. En líneas generales Anaconda Distribution es una distribucción de Python que funciona como un gestor de entorno, un gestor de paquetes y que posee una colección de más de 720 paquetes de código abierto.**\n",
    "    \n",
    "<img src=\"anaconda.png\" width=\"880\" height=\"880\" align=\"center\"/>"
   ]
  },
  {
   "cell_type": "code",
   "execution_count": null,
   "metadata": {},
   "outputs": [],
   "source": []
  }
 ],
 "metadata": {
  "kernelspec": {
   "display_name": "Python 3",
   "language": "python",
   "name": "python3"
  },
  "language_info": {
   "codemirror_mode": {
    "name": "ipython",
    "version": 3
   },
   "file_extension": ".py",
   "mimetype": "text/x-python",
   "name": "python",
   "nbconvert_exporter": "python",
   "pygments_lexer": "ipython3",
   "version": "3.8.8"
  }
 },
 "nbformat": 4,
 "nbformat_minor": 4
}
