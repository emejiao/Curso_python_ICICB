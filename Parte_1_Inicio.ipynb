{
 "cells": [
  {
   "cell_type": "markdown",
   "metadata": {},
   "source": [
    "<img src=\"logosimbolo1.gif\" width=\"180\" height=\"180\" align=\"left\"/>\n",
    "\n",
    "<img src=\"logo.svg\" width=\"200\" height=\"460\" align=\"right\"/>\n",
    "\n",
    "<font color='orange' size=6 align='center'><p style='text-align: center;'>**Curso Precongreso (1-CICB): Python en Ciencias Biomédicas**\\\n",
    "<font color=cian size=5 align='center'>**Enrique Mejía Ospino, emejia@uis.edu.co**\\\n",
    "<font color=cian size=5 align='center'>         **Universidad Industrial de Santander**"
   ]
  },
  {
   "cell_type": "markdown",
   "metadata": {},
   "source": [
    "---"
   ]
  },
  {
   "cell_type": "markdown",
   "metadata": {},
   "source": [
    "<font color=navy size=6 align='center'><p style='text-align: center;'>         **Fundamentos Básicos de Jupyter**\n",
    "\n",
    "---"
   ]
  },
  {
   "cell_type": "markdown",
   "metadata": {},
   "source": [
    "<font color=navy size=5>**Vamos a empezar**\n",
    "\n",
    "<font color=black size=4><p style='text-align: justify;'>**En este curso vamos a trabajar con los cuadernos de Jupyter (Jupyter Notebooks), este documento por ejemplo ha sido generado a partir de un cuaderno de Jupyter. Durante el curso nos familiarizaremos con este entorno y aprenderemos a como usarlo para generar reportes.**\n",
    "    \n",
    "**Todo el material del curso estará disponible en el siguiente [repositorio](https://github.com/emejiao/Curso_python_ICICB). puedes acceder a él y descargar los cuadernos para usarlos durante el curso**"
   ]
  },
  {
   "cell_type": "markdown",
   "metadata": {},
   "source": [
    "<font color=navy size=5>**Jupyter Notebooks**\n",
    "\n",
    "<font color=DodgerBlue size=4><p style='text-align: justify;'>**El cuaderno Jupyter es una plataforma basada en la internet, interactivo y escrito en formato  *JSON* que contiene una lista ordenada de entradas y salidas que puede soportar *código, texto, imagenes y multimedia*. Los Jupyter Notebooks, además, pueden ser convertidos a otros formatos de archivos como HTML, presentaciones de diapositivas, LaTeX, PDF, Python, etc).Este será el ambiente en el desarrollaremos el curso y por tanto lo que están viendo ahora mismo es un cuaderno que ustedes pueden modificar o enriquecer.** \n",
    "    \n",
    "<font color=DarkMagenta size=5>**Pero veamos primero cómo funciona.**\n",
    "\n",
    "**A partir del Suite de Anaconda se puede acceder para trabajar en Jupyter Notebooks o Jupyter Lab (entre otras plataformas). Cualquiera de ellas se abrira en una pestaña del navegador de internet que tenga configurado por defecto.**\n",
    "\n",
    "<img src=\"./Imagenes/Jupyter_Lab.png\" width=\"800\" height=\"460\"/>\n",
    "   \n",
    "\n",
    "**A través de cualquiera de las dos plataformas puede obtener acceso al explorador de archivos, lo que permite facilmente abrir los cuadernos que tenga en su disco duro. A través de Jupyter Lab puede, no solamente crear nuevos cuadernos, sino abrir una consola, desarrollar codigos en python, escribir texto, etc. Un cuaderno de Jupyter es similar a un intérprete, que está dividido en *celdas*. Las celdas pueden contener, código, texto, imágenes...**\n",
    "\n",
    "<img src=\"./Imagenes/Jupyter_Lab2.png\" width=\"800\" height=\"460\"/>\n",
    "\n",
    "**Las celdas pueden ser, en general, de dos tipos; celdas de codigo que se distiguen por que están enumeradas y celdas de texto ([Markdown](https://markdown.es/sintaxis-markdown/)) que sirven para documentar el cuaderno.**\n",
    "\n",
    "<img src=\"./Imagenes/Jupyter_Lab3.png\" width=\"800\" height=\"460\"/>\n",
    "\n",
    "**También puedes escribir ecuaciones matematicas en un lenguaje parecido a Latex y mucho más. Esto es una herramienta muy potente para explicar a alguien o a ti mismo lo que tu código hace, para hacer un informe, un trabajo, escribir en un blog...**\n",
    "\n",
    "**Los Jupyter Notebooks tienen una gran cantidad funcionalidades que iras aprendiendo poco a poco por tu cuenta, especialmente por que hay una gran comunidad dispuesta a ayudarte.** "
   ]
  },
  {
   "cell_type": "code",
   "execution_count": null,
   "metadata": {},
   "outputs": [],
   "source": []
  }
 ],
 "metadata": {
  "kernelspec": {
   "display_name": "Python 3",
   "language": "python",
   "name": "python3"
  },
  "language_info": {
   "codemirror_mode": {
    "name": "ipython",
    "version": 3
   },
   "file_extension": ".py",
   "mimetype": "text/x-python",
   "name": "python",
   "nbconvert_exporter": "python",
   "pygments_lexer": "ipython3",
   "version": "3.8.8"
  }
 },
 "nbformat": 4,
 "nbformat_minor": 4
}
