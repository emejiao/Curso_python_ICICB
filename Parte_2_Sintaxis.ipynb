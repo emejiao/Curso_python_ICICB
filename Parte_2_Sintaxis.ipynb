{
 "cells": [
  {
   "cell_type": "markdown",
   "metadata": {},
   "source": [
    "<img src=\"logosimbolo1.gif\" width=\"180\" height=\"180\" align=\"left\"/>\n",
    "\n",
    "<img src=\"logo.svg\" width=\"200\" height=\"460\" align=\"right\"/>\n",
    "\n",
    "<font color='orange' size=6 align='center'><p style='text-align: center;'>**Curso Precongreso (1-CICB): Python en Ciencias Biomédicas**\\\n",
    "<font color=cian size=5>**Enrique Mejía Ospino, emejia@uis.edu.co**\\\n",
    "<font color=cian size=5>         **Universidad Industrial de Santander**"
   ]
  },
  {
   "cell_type": "markdown",
   "metadata": {},
   "source": [
    "<font color=navy size=6>**1. Introducción a la sintaxis de Python**\n",
    "\n",
    "----------------------------"
   ]
  },
  {
   "cell_type": "markdown",
   "metadata": {},
   "source": [
    "<font color=green size=5>**Empezemos!** "
   ]
  },
  {
   "cell_type": "code",
   "execution_count": null,
   "metadata": {},
   "outputs": [],
   "source": [
    "print(\"Bienvenidos al curso de Python!\")"
   ]
  },
  {
   "cell_type": "markdown",
   "metadata": {},
   "source": [
    "<font color=green size=5>**Comentarios**"
   ]
  },
  {
   "cell_type": "code",
   "execution_count": 2,
   "metadata": {},
   "outputs": [],
   "source": [
    "# Los comentarios son muy útiles para entender el código de otras personas y permitir que otras personas entienda el mio\n",
    "\n",
    "print(\"Debo comentar mi codigo\")\n",
    "# print(\"Esto no se imprimirá\")\n",
    "\n",
    "\"\"\" Esto tambien es un comentario\n",
    "de multiples lineas\"\"\"\n",
    "\n",
    "print(\"Hola\")"
   ]
  },
  {
   "cell_type": "markdown",
   "metadata": {},
   "source": [
    "<font color=green size=4><p style='text-align: justify;'>**Los comentarios tambien se pueden hacer en celdas como ésta (Markdown), en las que se pueden utilizar todos los recurso de edición de la web, como por ejemplo** <font color=red size=4>**color,** <font color=Plum size=7>**tamaño,** <font color=red size=4>**etc** <font color=green size=4>**. Tambien es posible escribir formúlas matemáticas en formato similar al *Latex*, como** \n",
    "$$\\large \\frac{1}{r^2}  \\frac{\\partial }{\\partial r}\\left(r^2 \\frac{\\partial R(r)}{\\partial r}\\right)\\, - \\, \\frac{2\\mu }{\\hslash^2}\\left(\\frac{Q}{r}-E \\right)R(r) \\, = \\,\\frac{l(l+1)}{r^2} R(r)$$"
   ]
  },
  {
   "cell_type": "markdown",
   "metadata": {},
   "source": [
    "<font color=navy size=6>**Fundamentos de Python**\n",
    "\n",
    "----------------------------"
   ]
  },
  {
   "cell_type": "markdown",
   "metadata": {},
   "source": [
    "<font color=blue size=4>**Tipos numéricos**\n",
    "\n",
    "<font color=green size=4>**Python al igual que otros lenguajes de programación posee de tipos numericos como  `int `,  `float `,  `string `, `complex ` y sus respectivas operaciones básicas.**"
   ]
  },
  {
   "cell_type": "code",
   "execution_count": 3,
   "metadata": {},
   "outputs": [
    {
     "data": {
      "text/plain": [
       "52.14"
      ]
     },
     "execution_count": 3,
     "metadata": {},
     "output_type": "execute_result"
    }
   ],
   "source": [
    "#Esto es una expresión\n",
    "5 * 10 - (7 - 2)/5 + 3.14"
   ]
  },
  {
   "cell_type": "markdown",
   "metadata": {},
   "source": [
    "<font color=green size=4>**La división entre enteros nos dará un numero real ( `float `) :**"
   ]
  },
  {
   "cell_type": "code",
   "execution_count": 4,
   "metadata": {},
   "outputs": [
    {
     "data": {
      "text/plain": [
       "1.6"
      ]
     },
     "execution_count": 4,
     "metadata": {},
     "output_type": "execute_result"
    }
   ],
   "source": [
    "8/5"
   ]
  },
  {
   "cell_type": "markdown",
   "metadata": {},
   "source": [
    "<font color=green size=4>**La división `// ` siempre nos retorna la parte entera**"
   ]
  },
  {
   "cell_type": "code",
   "execution_count": 5,
   "metadata": {},
   "outputs": [
    {
     "data": {
      "text/plain": [
       "6"
      ]
     },
     "execution_count": 5,
     "metadata": {},
     "output_type": "execute_result"
    }
   ],
   "source": [
    "19 // 3"
   ]
  },
  {
   "cell_type": "markdown",
   "metadata": {},
   "source": [
    "<font color=green size=4>**El operador  `%` nos retorna el residuo de la división**"
   ]
  },
  {
   "cell_type": "code",
   "execution_count": 6,
   "metadata": {},
   "outputs": [
    {
     "data": {
      "text/plain": [
       "2"
      ]
     },
     "execution_count": 6,
     "metadata": {},
     "output_type": "execute_result"
    }
   ],
   "source": [
    "17 % 3 "
   ]
  },
  {
   "cell_type": "markdown",
   "metadata": {},
   "source": [
    "<font color=green size=4>**Además Python posee un tipo especial ( `complex `)**"
   ]
  },
  {
   "cell_type": "code",
   "execution_count": 7,
   "metadata": {},
   "outputs": [
    {
     "data": {
      "text/plain": [
       "(12+7j)"
      ]
     },
     "execution_count": 7,
     "metadata": {},
     "output_type": "execute_result"
    }
   ],
   "source": [
    "12 + 7j"
   ]
  },
  {
   "cell_type": "code",
   "execution_count": 8,
   "metadata": {},
   "outputs": [
    {
     "data": {
      "text/plain": [
       "(-6+0j)"
      ]
     },
     "execution_count": 8,
     "metadata": {},
     "output_type": "execute_result"
    }
   ],
   "source": [
    "(2j) * (3j)"
   ]
  },
  {
   "cell_type": "markdown",
   "metadata": {},
   "source": [
    "<font color=green size=4>**El operador para la potencia es muy sencillo**"
   ]
  },
  {
   "cell_type": "code",
   "execution_count": 9,
   "metadata": {},
   "outputs": [
    {
     "data": {
      "text/plain": [
       "36"
      ]
     },
     "execution_count": 9,
     "metadata": {},
     "output_type": "execute_result"
    }
   ],
   "source": [
    "6**2"
   ]
  },
  {
   "cell_type": "code",
   "execution_count": 10,
   "metadata": {},
   "outputs": [
    {
     "data": {
      "text/plain": [
       "(-4+0j)"
      ]
     },
     "execution_count": 10,
     "metadata": {},
     "output_type": "execute_result"
    }
   ],
   "source": [
    "(2j)**2"
   ]
  },
  {
   "cell_type": "markdown",
   "metadata": {},
   "source": [
    "<font color=green size=4>**Python tambien posee funciones integradas (`built-in functions`) muy útiles como:**"
   ]
  },
  {
   "cell_type": "code",
   "execution_count": 11,
   "metadata": {},
   "outputs": [
    {
     "data": {
      "text/plain": [
       "5"
      ]
     },
     "execution_count": 11,
     "metadata": {},
     "output_type": "execute_result"
    }
   ],
   "source": [
    "abs(-5) # Valor absoluto"
   ]
  },
  {
   "cell_type": "code",
   "execution_count": 12,
   "metadata": {},
   "outputs": [
    {
     "data": {
      "text/plain": [
       "5.0"
      ]
     },
     "execution_count": 12,
     "metadata": {},
     "output_type": "execute_result"
    }
   ],
   "source": [
    "# Qué pasará si...\n",
    "abs(4+3j) # Modulo "
   ]
  },
  {
   "cell_type": "code",
   "execution_count": 13,
   "metadata": {},
   "outputs": [
    {
     "data": {
      "text/plain": [
       "3"
      ]
     },
     "execution_count": 13,
     "metadata": {},
     "output_type": "execute_result"
    }
   ],
   "source": [
    "round(3.124)"
   ]
  },
  {
   "cell_type": "code",
   "execution_count": 14,
   "metadata": {},
   "outputs": [
    {
     "data": {
      "text/plain": [
       "10"
      ]
     },
     "execution_count": 14,
     "metadata": {},
     "output_type": "execute_result"
    }
   ],
   "source": [
    "round(9.9999)"
   ]
  },
  {
   "cell_type": "code",
   "execution_count": 15,
   "metadata": {},
   "outputs": [
    {
     "data": {
      "text/plain": [
       "10"
      ]
     },
     "execution_count": 15,
     "metadata": {},
     "output_type": "execute_result"
    }
   ],
   "source": [
    "max(5,1,6,-2,10,7)"
   ]
  },
  {
   "cell_type": "code",
   "execution_count": 16,
   "metadata": {},
   "outputs": [
    {
     "data": {
      "text/plain": [
       "-1"
      ]
     },
     "execution_count": 16,
     "metadata": {},
     "output_type": "execute_result"
    }
   ],
   "source": [
    "min(2,5,7,1,-1,0)"
   ]
  },
  {
   "cell_type": "markdown",
   "metadata": {},
   "source": [
    "<font color=green size=4>**También podemos convertir los numeros en otros tipos:**"
   ]
  },
  {
   "cell_type": "code",
   "execution_count": 17,
   "metadata": {},
   "outputs": [
    {
     "data": {
      "text/plain": [
       "23"
      ]
     },
     "execution_count": 17,
     "metadata": {},
     "output_type": "execute_result"
    }
   ],
   "source": [
    "int(23.12)"
   ]
  },
  {
   "cell_type": "code",
   "execution_count": 18,
   "metadata": {},
   "outputs": [
    {
     "data": {
      "text/plain": [
       "12"
      ]
     },
     "execution_count": 18,
     "metadata": {},
     "output_type": "execute_result"
    }
   ],
   "source": [
    "int(12.99)"
   ]
  },
  {
   "cell_type": "code",
   "execution_count": 19,
   "metadata": {},
   "outputs": [
    {
     "data": {
      "text/plain": [
       "12.99"
      ]
     },
     "execution_count": 19,
     "metadata": {},
     "output_type": "execute_result"
    }
   ],
   "source": [
    "float(12.99)"
   ]
  },
  {
   "cell_type": "code",
   "execution_count": 20,
   "metadata": {},
   "outputs": [
    {
     "data": {
      "text/plain": [
       "(2.1+0j)"
      ]
     },
     "execution_count": 20,
     "metadata": {},
     "output_type": "execute_result"
    }
   ],
   "source": [
    "complex(2.1)"
   ]
  },
  {
   "cell_type": "markdown",
   "metadata": {},
   "source": [
    "<font color=blue size=4>**Variables**\n",
    "\n",
    "<font color=green size=4><p style='text-align: justify;'>**Una variable es como una caja en la memoria de la computadora en donde se puede almacenar un valor.\n",
    "Al igual que otros lenguajes la asignación de una variable en Python funciona con el operador __`=`__.**\n",
    "\n",
    "<font color=green size=4><p style='text-align: justify;'>**Luego podemos utilizarlas como si se tratase de un valor literal, incluso operarlas entre otras variables y volver a asignarles un valor en cualquier momento.**"
   ]
  },
  {
   "cell_type": "code",
   "execution_count": 21,
   "metadata": {},
   "outputs": [],
   "source": [
    "x = 2.13"
   ]
  },
  {
   "cell_type": "code",
   "execution_count": 22,
   "metadata": {
    "scrolled": true
   },
   "outputs": [
    {
     "data": {
      "text/plain": [
       "2.13"
      ]
     },
     "execution_count": 22,
     "metadata": {},
     "output_type": "execute_result"
    }
   ],
   "source": [
    "x"
   ]
  },
  {
   "cell_type": "markdown",
   "metadata": {},
   "source": [
    "<font color=green size=4><p style='text-align: justify;'>**Si asignamos nuevamente otro numero a la misma variable, esta cambia y se le asigna el nuevo valor**"
   ]
  },
  {
   "cell_type": "code",
   "execution_count": 23,
   "metadata": {},
   "outputs": [],
   "source": [
    "x = 322"
   ]
  },
  {
   "cell_type": "code",
   "execution_count": 24,
   "metadata": {
    "scrolled": true
   },
   "outputs": [
    {
     "data": {
      "text/plain": [
       "322"
      ]
     },
     "execution_count": 24,
     "metadata": {},
     "output_type": "execute_result"
    }
   ],
   "source": [
    "x"
   ]
  },
  {
   "cell_type": "markdown",
   "metadata": {},
   "source": [
    "<font color=green size=4><p style='text-align: justify;'>**Tambien podemos asignar multiples variables:**"
   ]
  },
  {
   "cell_type": "code",
   "execution_count": 25,
   "metadata": {},
   "outputs": [],
   "source": [
    "a, b = 2, 10 "
   ]
  },
  {
   "cell_type": "code",
   "execution_count": 26,
   "metadata": {},
   "outputs": [
    {
     "data": {
      "text/plain": [
       "20"
      ]
     },
     "execution_count": 26,
     "metadata": {},
     "output_type": "execute_result"
    }
   ],
   "source": [
    "a*b"
   ]
  },
  {
   "cell_type": "markdown",
   "metadata": {},
   "source": [
    "<font color=green size=4><p style='text-align: justify;'>**Si invocamos una variable que no esta previamente definida nos dará un error**"
   ]
  },
  {
   "cell_type": "code",
   "execution_count": 27,
   "metadata": {},
   "outputs": [
    {
     "ename": "NameError",
     "evalue": "name 'k' is not defined",
     "output_type": "error",
     "traceback": [
      "\u001b[1;31m---------------------------------------------------------------------------\u001b[0m",
      "\u001b[1;31mNameError\u001b[0m                                 Traceback (most recent call last)",
      "\u001b[1;32m<ipython-input-27-141b3ea3f03f>\u001b[0m in \u001b[0;36m<module>\u001b[1;34m\u001b[0m\n\u001b[1;32m----> 1\u001b[1;33m \u001b[0mk\u001b[0m\u001b[1;33m\u001b[0m\u001b[1;33m\u001b[0m\u001b[0m\n\u001b[0m",
      "\u001b[1;31mNameError\u001b[0m: name 'k' is not defined"
     ]
    }
   ],
   "source": [
    "k"
   ]
  },
  {
   "cell_type": "markdown",
   "metadata": {},
   "source": [
    "<font color=blue size=4><p style='text-align: justify;'>**La Función \"print\"**\n",
    "\n",
    "<font color=green size=4><p style='text-align: justify;'>**La función __print__ nos permite imprimir en consola una variable,expresiones, etc...** "
   ]
  },
  {
   "cell_type": "code",
   "execution_count": 28,
   "metadata": {},
   "outputs": [
    {
     "name": "stdout",
     "output_type": "stream",
     "text": [
      "322\n"
     ]
    }
   ],
   "source": [
    "num = 322\n",
    "print(num)"
   ]
  },
  {
   "cell_type": "code",
   "execution_count": 29,
   "metadata": {},
   "outputs": [
    {
     "name": "stdout",
     "output_type": "stream",
     "text": [
      "323\n"
     ]
    }
   ],
   "source": [
    "num = num + 1 \n",
    "print(num)"
   ]
  },
  {
   "cell_type": "markdown",
   "metadata": {},
   "source": [
    "<font color=green size=4><p style='text-align: justify;'>**Sin embargo, existen reglas a la hora de declarar variables, entre ellas tenemos:**\n",
    "\n",
    "![Alt text](validos.png \"Optional title\")"
   ]
  },
  {
   "cell_type": "markdown",
   "metadata": {},
   "source": [
    "<font color=green size=4><p style='text-align: justify;'>**Además existen palabras reservadas que no pueden ser usadas como nombres para variables**\n",
    "\n",
    "![Alt text](tokens.png \"Optional title\")"
   ]
  },
  {
   "cell_type": "markdown",
   "metadata": {},
   "source": [
    "<font color=green size=4><p style='text-align: justify;'>**`print()` es una función muy útil ya que nos permite imprimir el valor de una variable o el resultado de una comparación.**"
   ]
  },
  {
   "cell_type": "markdown",
   "metadata": {},
   "source": [
    "<font color=blue size=4><p style='text-align: justify;'>**Imprimiendo con formato**"
   ]
  },
  {
   "cell_type": "markdown",
   "metadata": {},
   "source": [
    "<font color=green size=4><p style='text-align: justify;'>**El método `str.format()` de Python permite hacer sustituciones de variables y darle formato a los valores a imprimir. Esto le permite concatenar elementos juntos dentro de una cadena a través del formato posicional.**\n",
    "\n",
    "<font color=green size=4><p style='text-align: justify;'>**Un ejemplo:**"
   ]
  },
  {
   "cell_type": "code",
   "execution_count": 30,
   "metadata": {},
   "outputs": [
    {
     "name": "stdout",
     "output_type": "stream",
     "text": [
      "Estoy llevando 4 cursos en verano\n"
     ]
    }
   ],
   "source": [
    "print(\"Estoy llevando {} cursos en verano\".format(4))"
   ]
  },
  {
   "cell_type": "markdown",
   "metadata": {},
   "source": [
    "<font color=green size=4><p style='text-align: justify;'>**Podemos referenciar el orden de las variables con sus índices (Los indices empiezan en 0)**"
   ]
  },
  {
   "cell_type": "code",
   "execution_count": 31,
   "metadata": {
    "scrolled": true
   },
   "outputs": [
    {
     "name": "stdout",
     "output_type": "stream",
     "text": [
      "Carlos tiene un gato y un perro!\n"
     ]
    }
   ],
   "source": [
    "print(\"Carlos tiene un {1} y un {0}!\".format(\"perro\", \"gato\"))"
   ]
  },
  {
   "cell_type": "markdown",
   "metadata": {},
   "source": [
    "<font color=green size=4><p style='text-align: justify;'>**Tambien podemos usar variables:**"
   ]
  },
  {
   "cell_type": "code",
   "execution_count": 32,
   "metadata": {
    "scrolled": true
   },
   "outputs": [
    {
     "name": "stdout",
     "output_type": "stream",
     "text": [
      "Creo que llevaré 24 créditos el otro ciclo!\n"
     ]
    }
   ],
   "source": [
    "nroCreditos = 24\n",
    "print(\"Creo que llevaré {} créditos el otro ciclo!\".format(nroCreditos))"
   ]
  },
  {
   "cell_type": "markdown",
   "metadata": {},
   "source": [
    "<font color=green size=4><p style='text-align: justify;'>**El orden importa a la hora de usar __`format()`__**"
   ]
  },
  {
   "cell_type": "code",
   "execution_count": 33,
   "metadata": {},
   "outputs": [
    {
     "data": {
      "text/plain": [
       "'a b c'"
      ]
     },
     "execution_count": 33,
     "metadata": {},
     "output_type": "execute_result"
    }
   ],
   "source": [
    "'{} {} {}'.format('a', 'b', 'c')"
   ]
  },
  {
   "cell_type": "code",
   "execution_count": 34,
   "metadata": {},
   "outputs": [
    {
     "data": {
      "text/plain": [
       "'c b a'"
      ]
     },
     "execution_count": 34,
     "metadata": {},
     "output_type": "execute_result"
    }
   ],
   "source": [
    "'{2} {1} {0}'.format('a', 'b', 'c')"
   ]
  },
  {
   "cell_type": "code",
   "execution_count": 35,
   "metadata": {},
   "outputs": [
    {
     "data": {
      "text/plain": [
       "'blue 10 1.5'"
      ]
     },
     "execution_count": 35,
     "metadata": {},
     "output_type": "execute_result"
    }
   ],
   "source": [
    "'{color} {n} {x}'.format(n=10, x=1.5, color='blue')"
   ]
  },
  {
   "cell_type": "markdown",
   "metadata": {},
   "source": [
    "<font color=green size=4><p style='text-align: justify;'>**Si queremos imprimir un numero decima y queremos precisar el numero de digitos a imprimir usamos:**\n",
    "\n",
    "<font color=green size=4><p style='text-align: justify;'>**__%(tamaño total).(numero de decimales)f__**"
   ]
  },
  {
   "cell_type": "code",
   "execution_count": 36,
   "metadata": {},
   "outputs": [
    {
     "name": "stdout",
     "output_type": "stream",
     "text": [
      "1321.98081\n"
     ]
    }
   ],
   "source": [
    "print(\"%.5f\" % 1321.980812123)"
   ]
  },
  {
   "cell_type": "code",
   "execution_count": 37,
   "metadata": {},
   "outputs": [
    {
     "name": "stdout",
     "output_type": "stream",
     "text": [
      "9788.21\n"
     ]
    }
   ],
   "source": [
    "print(\"%.2f\" % 9788.213318204967192)"
   ]
  },
  {
   "cell_type": "markdown",
   "metadata": {},
   "source": [
    "<font color=blue size=4><p style='text-align: justify;'>**Tipo Booleano**"
   ]
  },
  {
   "cell_type": "markdown",
   "metadata": {},
   "source": [
    "<font color=green size=4><p style='text-align: justify;'>**Python soporta tambien un tipo especial que solo adquiere dos valores y eso son los booleanos:**\n",
    "\n",
    "- **True**\n",
    "- **False**\n",
    "\n",
    "**Tambien tenemos operaciones del algebra booleana como:**\n"
   ]
  },
  {
   "cell_type": "code",
   "execution_count": 38,
   "metadata": {},
   "outputs": [
    {
     "name": "stdout",
     "output_type": "stream",
     "text": [
      "True\n",
      "False\n",
      "False\n"
     ]
    }
   ],
   "source": [
    "print(True or False)\n",
    "print(True and False)\n",
    "print(False and False)"
   ]
  },
  {
   "cell_type": "markdown",
   "metadata": {},
   "source": [
    "<font color=green size=4><p style='text-align: justify;'>**Python posee un operador más el __not__**"
   ]
  },
  {
   "cell_type": "code",
   "execution_count": 39,
   "metadata": {
    "scrolled": true
   },
   "outputs": [
    {
     "name": "stdout",
     "output_type": "stream",
     "text": [
      "False\n",
      "True\n"
     ]
    }
   ],
   "source": [
    "print(not True)\n",
    "print(not False)"
   ]
  },
  {
   "cell_type": "markdown",
   "metadata": {},
   "source": [
    "<font color=green size=4><p style='text-align: justify;'>**Podemos usar operadores para comparar, como `(==,!=,<,>,<=,>=)`**"
   ]
  },
  {
   "cell_type": "code",
   "execution_count": 40,
   "metadata": {},
   "outputs": [],
   "source": [
    "a = 15\n",
    "b = 10\n",
    "c = 15"
   ]
  },
  {
   "cell_type": "code",
   "execution_count": 41,
   "metadata": {},
   "outputs": [
    {
     "name": "stdout",
     "output_type": "stream",
     "text": [
      "False\n"
     ]
    }
   ],
   "source": [
    "print(a == b)"
   ]
  },
  {
   "cell_type": "code",
   "execution_count": 42,
   "metadata": {},
   "outputs": [
    {
     "name": "stdout",
     "output_type": "stream",
     "text": [
      "True\n"
     ]
    }
   ],
   "source": [
    "print(a == c)"
   ]
  },
  {
   "cell_type": "code",
   "execution_count": 43,
   "metadata": {},
   "outputs": [
    {
     "name": "stdout",
     "output_type": "stream",
     "text": [
      "False\n",
      "True\n",
      "False\n"
     ]
    }
   ],
   "source": [
    "print(a < b)\n",
    "print(a >= b)\n",
    "print(a != c)"
   ]
  },
  {
   "cell_type": "code",
   "execution_count": 44,
   "metadata": {
    "scrolled": true
   },
   "outputs": [
    {
     "ename": "TypeError",
     "evalue": "'<' not supported between instances of 'complex' and 'complex'",
     "output_type": "error",
     "traceback": [
      "\u001b[1;31m---------------------------------------------------------------------------\u001b[0m",
      "\u001b[1;31mTypeError\u001b[0m                                 Traceback (most recent call last)",
      "\u001b[1;32m<ipython-input-44-93f3c686852b>\u001b[0m in \u001b[0;36m<module>\u001b[1;34m\u001b[0m\n\u001b[1;32m----> 1\u001b[1;33m \u001b[0mprint\u001b[0m\u001b[1;33m(\u001b[0m\u001b[1;36m2j\u001b[0m \u001b[1;33m<\u001b[0m \u001b[1;36m3j\u001b[0m\u001b[1;33m)\u001b[0m\u001b[1;33m\u001b[0m\u001b[1;33m\u001b[0m\u001b[0m\n\u001b[0m",
      "\u001b[1;31mTypeError\u001b[0m: '<' not supported between instances of 'complex' and 'complex'"
     ]
    }
   ],
   "source": [
    "print(2j < 3j)"
   ]
  },
  {
   "cell_type": "markdown",
   "metadata": {},
   "source": [
    "<font color=green size=4><p style='text-align: justify;'>**Qué paso? D:, como sabrán los complejos no se pueden ordenar ;)**"
   ]
  },
  {
   "cell_type": "markdown",
   "metadata": {},
   "source": [
    "<font color=green size=4><p style='text-align: justify;'>**Tambien podemos realizar operaciones combinadas**"
   ]
  },
  {
   "cell_type": "code",
   "execution_count": 45,
   "metadata": {},
   "outputs": [
    {
     "data": {
      "text/plain": [
       "True"
      ]
     },
     "execution_count": 45,
     "metadata": {},
     "output_type": "execute_result"
    }
   ],
   "source": [
    "((4 < 6) and (5 >= 8)) or (4 != 7)"
   ]
  },
  {
   "cell_type": "markdown",
   "metadata": {},
   "source": [
    "<font color=blue size=4><p style='text-align: justify;'>**Tipo String**"
   ]
  },
  {
   "cell_type": "markdown",
   "metadata": {},
   "source": [
    "<font color=green size=4><p style='text-align: justify;'>**Además de los enteros, flotantes y complejos existen otros tipos muy importantes como los strings __(cadenas de caracteres).__**"
   ]
  },
  {
   "cell_type": "code",
   "execution_count": 46,
   "metadata": {},
   "outputs": [],
   "source": [
    "name = \"Juliana\""
   ]
  },
  {
   "cell_type": "code",
   "execution_count": 47,
   "metadata": {},
   "outputs": [
    {
     "name": "stdout",
     "output_type": "stream",
     "text": [
      "Juliana\n"
     ]
    }
   ],
   "source": [
    "print(name)"
   ]
  },
  {
   "cell_type": "code",
   "execution_count": 48,
   "metadata": {},
   "outputs": [
    {
     "data": {
      "text/plain": [
       "str"
      ]
     },
     "execution_count": 48,
     "metadata": {},
     "output_type": "execute_result"
    }
   ],
   "source": [
    "type(name)"
   ]
  },
  {
   "cell_type": "markdown",
   "metadata": {},
   "source": [
    "<font color=green size=4><p style='text-align: justify;'>**Este tipo especial tiene algunas operaciones como:**"
   ]
  },
  {
   "cell_type": "code",
   "execution_count": 49,
   "metadata": {},
   "outputs": [
    {
     "name": "stdout",
     "output_type": "stream",
     "text": [
      "JulianaMartinez\n"
     ]
    }
   ],
   "source": [
    "second_name = \"Martinez\"\n",
    "print(name + second_name)\n",
    "# Esta operación es llamada concatenación"
   ]
  },
  {
   "cell_type": "code",
   "execution_count": 50,
   "metadata": {},
   "outputs": [
    {
     "name": "stdout",
     "output_type": "stream",
     "text": [
      "Juliana Martinez\n"
     ]
    }
   ],
   "source": [
    "# Para separarlo ;)\n",
    "print(name + \" \" + second_name)"
   ]
  },
  {
   "cell_type": "markdown",
   "metadata": {},
   "source": [
    "<font color=green size=4><p style='text-align: justify;'>**Tambien podemos multiplicar una cadena por un número entero (__ENTERO__).**"
   ]
  },
  {
   "cell_type": "code",
   "execution_count": 51,
   "metadata": {},
   "outputs": [
    {
     "name": "stdout",
     "output_type": "stream",
     "text": [
      "JulianaJulianaJuliana\n"
     ]
    }
   ],
   "source": [
    "print(name * 3)"
   ]
  },
  {
   "cell_type": "code",
   "execution_count": 52,
   "metadata": {},
   "outputs": [
    {
     "ename": "TypeError",
     "evalue": "can't multiply sequence by non-int of type 'float'",
     "output_type": "error",
     "traceback": [
      "\u001b[1;31m---------------------------------------------------------------------------\u001b[0m",
      "\u001b[1;31mTypeError\u001b[0m                                 Traceback (most recent call last)",
      "\u001b[1;32m<ipython-input-52-8681a1efd912>\u001b[0m in \u001b[0;36m<module>\u001b[1;34m\u001b[0m\n\u001b[1;32m----> 1\u001b[1;33m \u001b[0mprint\u001b[0m\u001b[1;33m(\u001b[0m\u001b[0mname\u001b[0m \u001b[1;33m*\u001b[0m \u001b[1;36m3.2\u001b[0m\u001b[1;33m)\u001b[0m\u001b[1;33m\u001b[0m\u001b[1;33m\u001b[0m\u001b[0m\n\u001b[0m",
      "\u001b[1;31mTypeError\u001b[0m: can't multiply sequence by non-int of type 'float'"
     ]
    }
   ],
   "source": [
    "print(name * 3.2)"
   ]
  },
  {
   "cell_type": "markdown",
   "metadata": {},
   "source": [
    "<font color=green size=4><p style='text-align: justify;'>**No puedes multiplicar una cadena por un float menos por un complejo...**\n",
    "\n",
    "**Tambien podemos convertir numeros a cadenas, por ejemplo:**"
   ]
  },
  {
   "cell_type": "code",
   "execution_count": 53,
   "metadata": {},
   "outputs": [
    {
     "data": {
      "text/plain": [
       "'5'"
      ]
     },
     "execution_count": 53,
     "metadata": {},
     "output_type": "execute_result"
    }
   ],
   "source": [
    "x = 5\n",
    "str(x)"
   ]
  },
  {
   "cell_type": "code",
   "execution_count": 54,
   "metadata": {},
   "outputs": [
    {
     "name": "stdout",
     "output_type": "stream",
     "text": [
      "Hola 5\n"
     ]
    }
   ],
   "source": [
    "print(\"Hola \" + str(x))"
   ]
  },
  {
   "cell_type": "markdown",
   "metadata": {},
   "source": [
    "<font color=green size=4><p style='text-align: justify;'>**Podemos usar ciertos caracteres especiales de escape como `\\n` (Salto de línea) o  `\\t` (tabulador)**"
   ]
  },
  {
   "cell_type": "code",
   "execution_count": 55,
   "metadata": {
    "scrolled": true
   },
   "outputs": [
    {
     "name": "stdout",
     "output_type": "stream",
     "text": [
      "Python es un lenguaje increíble\n",
      "Facil de usar\n"
     ]
    }
   ],
   "source": [
    "s = \"Python es un lenguaje increíble\\nFacil de usar\"\n",
    "print(s)"
   ]
  },
  {
   "cell_type": "code",
   "execution_count": 56,
   "metadata": {},
   "outputs": [
    {
     "name": "stdout",
     "output_type": "stream",
     "text": [
      "Esta\tes\tuna\tcadena\tseparada\tpor\ttabs\n"
     ]
    }
   ],
   "source": [
    "other_string = \"Esta\\tes\\tuna\\tcadena\\tseparada\\tpor\\ttabs\"\n",
    "print(other_string)"
   ]
  },
  {
   "cell_type": "markdown",
   "metadata": {},
   "source": [
    "<font color=green size=4><p style='text-align: justify;'>**Ahora vamos a utilizar una función muy especial para poder obtener una cadena del teclado. La función a utilizar se llama__ input().__**"
   ]
  },
  {
   "cell_type": "code",
   "execution_count": 59,
   "metadata": {},
   "outputs": [
    {
     "name": "stdout",
     "output_type": "stream",
     "text": [
      "Bienvenidos a mi primer programa\n",
      "Ingrese su nombre por favor\n"
     ]
    },
    {
     "name": "stdin",
     "output_type": "stream",
     "text": [
      " Fulano\n"
     ]
    },
    {
     "name": "stdout",
     "output_type": "stream",
     "text": [
      "Bienvenido Fulano\n",
      "Tu nombre tiene 6 letras\n",
      "Gracias por usar este sistema :) \n"
     ]
    }
   ],
   "source": [
    "print(\"Bienvenidos a mi primer programa\")\n",
    "print(\"Ingrese su nombre por favor\")\n",
    "name = input()\n",
    "print(\"Bienvenido \" + name)\n",
    "print(\"Tu nombre tiene \" + str(len(name)) + \" letras\")\n",
    "print(\"Gracias por usar este sistema :) \")"
   ]
  },
  {
   "cell_type": "markdown",
   "metadata": {},
   "source": [
    "<font color=green size=4><p style='text-align: justify;'>**Dentro de input tambien podemos escribir una cadena**"
   ]
  },
  {
   "cell_type": "code",
   "execution_count": 60,
   "metadata": {},
   "outputs": [
    {
     "name": "stdin",
     "output_type": "stream",
     "text": [
      "Ingrese su edad:  25\n"
     ]
    },
    {
     "name": "stdout",
     "output_type": "stream",
     "text": [
      "Usted tendrá 30 dentro de 5 años\n"
     ]
    }
   ],
   "source": [
    "age = input(\"Ingrese su edad: \")\n",
    "print(\"Usted tendrá \" + str(int(age)+5) + \" dentro de 5 años\")"
   ]
  },
  {
   "cell_type": "markdown",
   "metadata": {},
   "source": [
    "<font color=green size=4><p style='text-align: justify;'>**Ahora por qué dijimos que las cadenas son un tipo especial?...**"
   ]
  },
  {
   "cell_type": "code",
   "execution_count": 61,
   "metadata": {},
   "outputs": [
    {
     "name": "stdout",
     "output_type": "stream",
     "text": [
      "S\n"
     ]
    }
   ],
   "source": [
    "# Definamos una cadena\n",
    "\n",
    "cadena = \"Susti\"\n",
    "\n",
    "primera_letra = cadena[0]\n",
    "\n",
    "print(primera_letra)"
   ]
  },
  {
   "cell_type": "markdown",
   "metadata": {},
   "source": [
    "<font color=green size=4><p style='text-align: justify;'>**¿Qué significa ese [0]? ...**\n",
    "**[0] es el índice o index, pero... Qué es un índice??:**"
   ]
  },
  {
   "cell_type": "markdown",
   "metadata": {},
   "source": [
    "![Alt text](array.png \"Estructura de una cadena\")"
   ]
  },
  {
   "cell_type": "markdown",
   "metadata": {},
   "source": [
    "<font color=green size=4><p style='text-align: justify;'>**Un string o cadena es un tipo especial debido a que este tiene índices al igual que los arrays en \"C\".**"
   ]
  },
  {
   "cell_type": "code",
   "execution_count": 62,
   "metadata": {},
   "outputs": [
    {
     "name": "stdout",
     "output_type": "stream",
     "text": [
      "6\n"
     ]
    }
   ],
   "source": [
    "#Si queremos hallar el tamaño de una cadena usamos la función len()\n",
    "dog_name = \"Diablo\"\n",
    "print(str(len(dog_name)))"
   ]
  },
  {
   "cell_type": "code",
   "execution_count": 63,
   "metadata": {},
   "outputs": [
    {
     "ename": "IndexError",
     "evalue": "string index out of range",
     "output_type": "error",
     "traceback": [
      "\u001b[1;31m---------------------------------------------------------------------------\u001b[0m",
      "\u001b[1;31mIndexError\u001b[0m                                Traceback (most recent call last)",
      "\u001b[1;32m<ipython-input-63-bf4f84f6bd56>\u001b[0m in \u001b[0;36m<module>\u001b[1;34m\u001b[0m\n\u001b[1;32m----> 1\u001b[1;33m \u001b[0mdog_name\u001b[0m\u001b[1;33m[\u001b[0m\u001b[1;36m6\u001b[0m\u001b[1;33m]\u001b[0m\u001b[1;33m\u001b[0m\u001b[1;33m\u001b[0m\u001b[0m\n\u001b[0m",
      "\u001b[1;31mIndexError\u001b[0m: string index out of range"
     ]
    }
   ],
   "source": [
    "dog_name[6]"
   ]
  },
  {
   "cell_type": "markdown",
   "metadata": {},
   "source": [
    "<font color=green size=4><p style='text-align: justify;'>**¿Qué pasó?... Diablo tiene 6 letras pero los arrays empiezan en cero, es decir que la ultima letra será el índice 5.**"
   ]
  },
  {
   "cell_type": "code",
   "execution_count": 64,
   "metadata": {},
   "outputs": [
    {
     "data": {
      "text/plain": [
       "'o'"
      ]
     },
     "execution_count": 64,
     "metadata": {},
     "output_type": "execute_result"
    }
   ],
   "source": [
    "dog_name[5]"
   ]
  },
  {
   "cell_type": "code",
   "execution_count": 65,
   "metadata": {},
   "outputs": [
    {
     "ename": "NameError",
     "evalue": "name 'animal' is not defined",
     "output_type": "error",
     "traceback": [
      "\u001b[1;31m---------------------------------------------------------------------------\u001b[0m",
      "\u001b[1;31mNameError\u001b[0m                                 Traceback (most recent call last)",
      "\u001b[1;32m<ipython-input-65-1d74ddc1ced2>\u001b[0m in \u001b[0;36m<module>\u001b[1;34m\u001b[0m\n\u001b[1;32m----> 1\u001b[1;33m \u001b[0manimal\u001b[0m\u001b[1;33m[\u001b[0m\u001b[1;33m-\u001b[0m\u001b[1;36m3\u001b[0m\u001b[1;33m:\u001b[0m\u001b[1;33m]\u001b[0m\u001b[1;33m\u001b[0m\u001b[1;33m\u001b[0m\u001b[0m\n\u001b[0m",
      "\u001b[1;31mNameError\u001b[0m: name 'animal' is not defined"
     ]
    }
   ],
   "source": [
    "animal[-3:]"
   ]
  },
  {
   "cell_type": "markdown",
   "metadata": {},
   "source": [
    "<font color=navy size=5><p style='text-align: justify;'>**Estructuras de seleccion**\n",
    "\n",
    "<font color=blue size=5><p style='text-align: justify;'>**Sentencia `if`**\n",
    "\n",
    "<font color=green size=4><p style='text-align: justify;'>**Es el tipo más común de instrucción de control de flujo. Una cláusula `if` statement (es decir, el bloque que sigue a la sentencia `if`) se ejecutará si la condición de la sentencia es `True`. La cláusula se omite si la condición es `False`. Por ejemplo el programa:**"
   ]
  },
  {
   "cell_type": "code",
   "execution_count": 66,
   "metadata": {},
   "outputs": [
    {
     "name": "stdout",
     "output_type": "stream",
     "text": [
      "Ingrese su nombre: \n"
     ]
    },
    {
     "name": "stdin",
     "output_type": "stream",
     "text": [
      " Samuel\n"
     ]
    },
    {
     "name": "stdout",
     "output_type": "stream",
     "text": [
      "Hola samuel\n",
      "Tu no eres Samuel\n"
     ]
    }
   ],
   "source": [
    "print(\"Ingrese su nombre: \")\n",
    "name = input()\n",
    "if name == \"Samuel\":\n",
    "    print(\"Hola samuel\")\n",
    "print('Tu no eres Samuel')"
   ]
  },
  {
   "cell_type": "markdown",
   "metadata": {},
   "source": [
    "<font color=blue size=5><p style='text-align: justify;'>**Sentencia `else`**\n",
    "\n",
    "<font color=green size=4><p style='text-align: justify;'>**Una cláusula `if` puede ser seguida opcionalmente por una sentencia `else`. La cláusula `else` se ejecuta sólo cuando la condición de la instrucción `if` es `False`. Una instrucción else se podría leer como: \"Si esta condición es verdadera, ejecute este código. O bien, ejecutar ese código. \"Una instrucción else no tiene una condición, y en código, un ejemplo de ello sería:**"
   ]
  },
  {
   "cell_type": "code",
   "execution_count": 67,
   "metadata": {},
   "outputs": [
    {
     "name": "stdout",
     "output_type": "stream",
     "text": [
      "Desaprobaste :(\n"
     ]
    }
   ],
   "source": [
    "estado = \"F\"\n",
    "if estado == \"A\":\n",
    "    print(\"Aprobaste :D\")\n",
    "else:\n",
    "    print(\"Desaprobaste :(\")"
   ]
  },
  {
   "cell_type": "markdown",
   "metadata": {},
   "source": [
    "### Sentencia `elif`"
   ]
  },
  {
   "cell_type": "markdown",
   "metadata": {},
   "source": [
    "<font color=blue size=5><p style='text-align: justify;'>**Sentencia `elif`**\n",
    "\n",
    "<font color=green size=4><p style='text-align: justify;'>**Mientras que sólo una de las cláusulas `if` o `else` se ejecutará, es posible que tenga un caso en el que desee ejecutar una de las muchas cláusulas posibles. La instrucción `elif` es una instrucción \"`else if`\" que sigue siempre después de una `if` o otra sentencia `elif`. Proporciona otra condición que se comprueba sólo si alguna de las condiciones anteriores eran falsas. Un ejemplo:**"
   ]
  },
  {
   "cell_type": "code",
   "execution_count": 68,
   "metadata": {},
   "outputs": [
    {
     "name": "stdout",
     "output_type": "stream",
     "text": [
      "El pez que compraste es Bagre\n"
     ]
    }
   ],
   "source": [
    "pez = 'Bagre'\n",
    "\n",
    "if pez == 'Bocachico':\n",
    "    print(\"El pez que compraste es Bocachico\")\n",
    "elif pez == 'Bagre':\n",
    "    print(\"El pez que compraste es Bagre\")\n",
    "else :\n",
    "    print(\"¿Qué habrás comprado? D:\")"
   ]
  },
  {
   "cell_type": "markdown",
   "metadata": {},
   "source": [
    "<font color=green size=4><p style='text-align: justify;'>**Otro ejemplo de if-elif-else**"
   ]
  },
  {
   "cell_type": "code",
   "execution_count": 69,
   "metadata": {},
   "outputs": [
    {
     "name": "stdin",
     "output_type": "stream",
     "text": [
      "Ingrese su promedio:  75\n"
     ]
    },
    {
     "name": "stdout",
     "output_type": "stream",
     "text": [
      "Grade C\n"
     ]
    }
   ],
   "source": [
    "num = int(input(\"Ingrese su promedio: \"))\n",
    "\n",
    "if num >= 90:\n",
    "    print(\"Grade A\")\n",
    "elif num >= 80:\n",
    "    print(\"Grade B\")\n",
    "elif num >= 70:\n",
    "    print(\"Grade C\")\n",
    "elif num >= 60:\n",
    "    print(\"Grade D\")\n",
    "elif num >= 40:\n",
    "    print(\"Grade E\")\n",
    "else:\n",
    "    print(\"Grade F\")\n"
   ]
  },
  {
   "cell_type": "markdown",
   "metadata": {},
   "source": [
    "<font color=navy size=5><p style='text-align: justify;'>**Estructuras de control iterativas**\n",
    "\n",
    "<font color=blue size=5><p style='text-align: justify;'>**Bucle `while`**\n",
    "\n",
    "<font color=gree size=4><p style='text-align: justify;'>**Puede hacer que un bloque de código se ejecute una y otra vez con una sentencia `while`. La cláusula de código en un tiempo se ejecutará siempre y cuando la condición de la sentencia `while` sea __`True`__. Un ejemplo:**"
   ]
  },
  {
   "cell_type": "code",
   "execution_count": 70,
   "metadata": {},
   "outputs": [
    {
     "name": "stdout",
     "output_type": "stream",
     "text": [
      "Debo aprender Python este año\n",
      "Debo aprender Python este año\n",
      "Debo aprender Python este año\n",
      "Debo aprender Python este año\n",
      "Debo aprender Python este año\n"
     ]
    }
   ],
   "source": [
    "cont = 0\n",
    "while cont < 5:\n",
    "    print('Debo aprender Python este año')\n",
    "    cont = cont + 1"
   ]
  },
  {
   "cell_type": "markdown",
   "metadata": {},
   "source": [
    "<font color=blue size=5><p style='text-align: justify;'>**Bucle `for`**\n",
    "\n",
    "<font color=gree size=4><p style='text-align: justify;'>**El bucle `while` sigue en bucle mientras que su condición sea `True` (que es la razón de su nombre), pero ¿y si quieres ejecutar un bloque de código sólo un cierto número de veces?. Esto se puede hacer haciendo uso del bucle `for`.**"
   ]
  },
  {
   "cell_type": "code",
   "execution_count": 71,
   "metadata": {},
   "outputs": [
    {
     "name": "stdout",
     "output_type": "stream",
     "text": [
      "Debo practicar para aprender (1)\n",
      "Debo practicar para aprender (2)\n",
      "Debo practicar para aprender (3)\n",
      "Debo practicar para aprender (4)\n",
      "Debo practicar para aprender (5)\n",
      "Debo practicar para aprender (6)\n",
      "Debo practicar para aprender (7)\n",
      "Debo practicar para aprender (8)\n"
     ]
    }
   ],
   "source": [
    "for i in range(8):\n",
    "    print('Debo practicar para aprender (' + str(i+1) + ')')"
   ]
  },
  {
   "cell_type": "markdown",
   "metadata": {},
   "source": [
    "<font color=blue size=5><p style='text-align: justify;'>**Ahora vamos a imprimir la tabla de multiplicar del 1 al 10 usando `for`.**"
   ]
  },
  {
   "cell_type": "code",
   "execution_count": 72,
   "metadata": {},
   "outputs": [
    {
     "name": "stdout",
     "output_type": "stream",
     "text": [
      "Tabla de multiplicar del 1\n",
      "1 * 1 = 1\n",
      "2 * 1 = 2\n",
      "3 * 1 = 3\n",
      "4 * 1 = 4\n",
      "5 * 1 = 5\n",
      "6 * 1 = 6\n",
      "7 * 1 = 7\n",
      "8 * 1 = 8\n",
      "9 * 1 = 9\n",
      "10 * 1 = 10\n",
      "==========================\n",
      "\n",
      "Tabla de multiplicar del 2\n",
      "1 * 2 = 2\n",
      "2 * 2 = 4\n",
      "3 * 2 = 6\n",
      "4 * 2 = 8\n",
      "5 * 2 = 10\n",
      "6 * 2 = 12\n",
      "7 * 2 = 14\n",
      "8 * 2 = 16\n",
      "9 * 2 = 18\n",
      "10 * 2 = 20\n",
      "==========================\n",
      "\n",
      "Tabla de multiplicar del 3\n",
      "1 * 3 = 3\n",
      "2 * 3 = 6\n",
      "3 * 3 = 9\n",
      "4 * 3 = 12\n",
      "5 * 3 = 15\n",
      "6 * 3 = 18\n",
      "7 * 3 = 21\n",
      "8 * 3 = 24\n",
      "9 * 3 = 27\n",
      "10 * 3 = 30\n",
      "==========================\n",
      "\n",
      "Tabla de multiplicar del 4\n",
      "1 * 4 = 4\n",
      "2 * 4 = 8\n",
      "3 * 4 = 12\n",
      "4 * 4 = 16\n",
      "5 * 4 = 20\n",
      "6 * 4 = 24\n",
      "7 * 4 = 28\n",
      "8 * 4 = 32\n",
      "9 * 4 = 36\n",
      "10 * 4 = 40\n",
      "==========================\n",
      "\n",
      "Tabla de multiplicar del 5\n",
      "1 * 5 = 5\n",
      "2 * 5 = 10\n",
      "3 * 5 = 15\n",
      "4 * 5 = 20\n",
      "5 * 5 = 25\n",
      "6 * 5 = 30\n",
      "7 * 5 = 35\n",
      "8 * 5 = 40\n",
      "9 * 5 = 45\n",
      "10 * 5 = 50\n",
      "==========================\n",
      "\n",
      "Tabla de multiplicar del 6\n",
      "1 * 6 = 6\n",
      "2 * 6 = 12\n",
      "3 * 6 = 18\n",
      "4 * 6 = 24\n",
      "5 * 6 = 30\n",
      "6 * 6 = 36\n",
      "7 * 6 = 42\n",
      "8 * 6 = 48\n",
      "9 * 6 = 54\n",
      "10 * 6 = 60\n",
      "==========================\n",
      "\n",
      "Tabla de multiplicar del 7\n",
      "1 * 7 = 7\n",
      "2 * 7 = 14\n",
      "3 * 7 = 21\n",
      "4 * 7 = 28\n",
      "5 * 7 = 35\n",
      "6 * 7 = 42\n",
      "7 * 7 = 49\n",
      "8 * 7 = 56\n",
      "9 * 7 = 63\n",
      "10 * 7 = 70\n",
      "==========================\n",
      "\n",
      "Tabla de multiplicar del 8\n",
      "1 * 8 = 8\n",
      "2 * 8 = 16\n",
      "3 * 8 = 24\n",
      "4 * 8 = 32\n",
      "5 * 8 = 40\n",
      "6 * 8 = 48\n",
      "7 * 8 = 56\n",
      "8 * 8 = 64\n",
      "9 * 8 = 72\n",
      "10 * 8 = 80\n",
      "==========================\n",
      "\n",
      "Tabla de multiplicar del 9\n",
      "1 * 9 = 9\n",
      "2 * 9 = 18\n",
      "3 * 9 = 27\n",
      "4 * 9 = 36\n",
      "5 * 9 = 45\n",
      "6 * 9 = 54\n",
      "7 * 9 = 63\n",
      "8 * 9 = 72\n",
      "9 * 9 = 81\n",
      "10 * 9 = 90\n",
      "==========================\n",
      "\n",
      "Tabla de multiplicar del 10\n",
      "1 * 10 = 10\n",
      "2 * 10 = 20\n",
      "3 * 10 = 30\n",
      "4 * 10 = 40\n",
      "5 * 10 = 50\n",
      "6 * 10 = 60\n",
      "7 * 10 = 70\n",
      "8 * 10 = 80\n",
      "9 * 10 = 90\n",
      "10 * 10 = 100\n",
      "==========================\n",
      "\n"
     ]
    }
   ],
   "source": [
    "for multiplicador in range (1, 11):\n",
    "    print(\"Tabla de multiplicar del\", multiplicador)\n",
    "    for multiplicando in range (1, 11):\n",
    "        print(multiplicando, \"*\", multiplicador, \"=\", multiplicando*multiplicador)\n",
    "    print(\"==========================\")\n",
    "    print() # línea en blanco."
   ]
  },
  {
   "cell_type": "code",
   "execution_count": null,
   "metadata": {},
   "outputs": [],
   "source": []
  }
 ],
 "metadata": {
  "kernelspec": {
   "display_name": "Python 3",
   "language": "python",
   "name": "python3"
  },
  "language_info": {
   "codemirror_mode": {
    "name": "ipython",
    "version": 3
   },
   "file_extension": ".py",
   "mimetype": "text/x-python",
   "name": "python",
   "nbconvert_exporter": "python",
   "pygments_lexer": "ipython3",
   "version": "3.8.8"
  }
 },
 "nbformat": 4,
 "nbformat_minor": 4
}
